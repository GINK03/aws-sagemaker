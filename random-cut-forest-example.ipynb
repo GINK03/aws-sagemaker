{
 "cells": [
  {
   "cell_type": "code",
   "execution_count": 1,
   "metadata": {},
   "outputs": [
    {
     "data": {
      "text/plain": [
       "<matplotlib.axes._subplots.AxesSubplot at 0x7fcc084f0da0>"
      ]
     },
     "execution_count": 1,
     "metadata": {},
     "output_type": "execute_result"
    }
   ],
   "source": [
    "import pandas\n",
    "import urllib.request\n",
    "\n",
    "data_filename = 'nyc_taxi.csv'\n",
    "data_source = 'https://raw.githubusercontent.com/numenta/NAB/master/data/realKnownCause/nyc_taxi.csv'\n",
    "\n",
    "urllib.request.urlretrieve(data_source, data_filename)\n",
    "taxi_data = pandas.read_csv(data_filename, delimiter=',')\n",
    "taxi_data.plot(title='Taxi Ridership in NYC')"
   ]
  },
  {
   "cell_type": "code",
   "execution_count": 4,
   "metadata": {},
   "outputs": [
    {
     "name": "stdout",
     "output_type": "stream",
     "text": [
      "Solving environment: ...working... done\n",
      "\n",
      "## Package Plan ##\n",
      "\n",
      "  environment location: /home/ec2-user/anaconda3/envs/tensorflow_p36\n",
      "\n",
      "  added / updated specs: \n",
      "    - boto3\n",
      "\n",
      "\n",
      "The following packages will be downloaded:\n",
      "\n",
      "    package                    |            build\n",
      "    ---------------------------|-----------------\n",
      "    certifi-2018.4.16          |           py36_0         142 KB\n",
      "\n",
      "The following packages will be UPDATED:\n",
      "\n",
      "    certifi:         2018.4.16-py36_0 conda-forge --> 2018.4.16-py36_0 \n",
      "    openssl:         1.0.2o-0         conda-forge --> 1.0.2o-h20670df_0\n",
      "\n",
      "The following packages will be DOWNGRADED:\n",
      "\n",
      "    ca-certificates: 2018.4.16-0      conda-forge --> 2018.03.07-0     \n",
      "\n",
      "Proceed ([y]/n)? \n",
      "\n",
      "Downloading and Extracting Packages\n",
      "Preparing transaction: ...working... done\n",
      "Verifying transaction: ...working... done\n",
      "Executing transaction: ...working... done\n"
     ]
    },
    {
     "name": "stderr",
     "output_type": "stream",
     "text": [
      "\n",
      "\n",
      "==> WARNING: A newer version of conda exists. <==\n",
      "  current version: 4.4.10\n",
      "  latest version: 4.5.2\n",
      "\n",
      "Please update conda by running\n",
      "\n",
      "    $ conda update -n base conda\n",
      "\n",
      "\n",
      "\r",
      "certifi 2018.4.16:            |   0% \r",
      "certifi 2018.4.16: ########## | 100% \n"
     ]
    }
   ],
   "source": [
    "%%sh \n",
    "conda install boto3"
   ]
  },
  {
   "cell_type": "code",
   "execution_count": 6,
   "metadata": {},
   "outputs": [],
   "source": [
    "def convert_and_upload_training_data(\n",
    "    ndarray, bucket, prefix, filename='data.pbr'):\n",
    "    import boto3\n",
    "    import os\n",
    "    from sagemaker.amazon.common import numpy_to_record_serializer\n",
    "\n",
    "    # convert Numpy array to Protobuf RecordIO format\n",
    "    serializer = numpy_to_record_serializer()\n",
    "    buffer = serializer(ndarray)\n",
    "\n",
    "    # upload to S3\n",
    "    s3_object = os.path.join(prefix, 'train', filename)\n",
    "    boto3.Session().resource('s3').Bucket(bucket).Object(s3_object).upload_fileobj(buffer)\n",
    "    s3_path = 's3://{}/{}'.format(bucket, s3_object)\n",
    "    return s3_path\n",
    "\n",
    "bucket = 'gk-sagemaker-test-01' # <-- use your own bucket, here\n",
    "prefix = 'sagemaker01/randomcutforest01'\n",
    "s3_train_data = convert_and_upload_training_data(\n",
    "    taxi_data.value.as_matrix().reshape(-1,1),\n",
    "    bucket,\n",
    "    prefix)"
   ]
  },
  {
   "cell_type": "code",
   "execution_count": 9,
   "metadata": {},
   "outputs": [
    {
     "name": "stderr",
     "output_type": "stream",
     "text": [
      "INFO:sagemaker:Creating training-job with name: randomcutforest-2018-05-04-05-01-39-829\n"
     ]
    },
    {
     "name": "stdout",
     "output_type": "stream",
     "text": [
      ".....................................................\n",
      "\u001b[31mDocker entrypoint called with argument(s): train\u001b[0m\n",
      "\u001b[31m[05/04/2018 05:05:59 INFO 140190373291840] Reading default configuration from /opt/amazon/lib/python2.7/site-packages/algorithm/resources/default-conf.json: {u'num_samples_per_tree': 256, u'_num_gpus': u'auto', u'_log_level': u'info', u'_kvstore': u'dist_async', u'force_dense': u'true', u'epochs': 1, u'num_trees': 100, u'eval_metrics': [u'accuracy', u'precision_recall_fscore'], u'_num_kv_servers': u'auto', u'mini_batch_size': 1000}\u001b[0m\n",
      "\u001b[31m[05/04/2018 05:05:59 INFO 140190373291840] Reading provided configuration from /opt/ml/input/config/hyperparameters.json: {u'feature_dim': u'1', u'num_samples_per_tree': u'200', u'num_trees': u'50'}\u001b[0m\n",
      "\u001b[31m[05/04/2018 05:05:59 INFO 140190373291840] Final configuration: {u'num_samples_per_tree': u'200', u'_num_gpus': u'auto', u'_log_level': u'info', u'_kvstore': u'dist_async', u'force_dense': u'true', u'epochs': 1, u'feature_dim': u'1', u'num_trees': u'50', u'eval_metrics': [u'accuracy', u'precision_recall_fscore'], u'_num_kv_servers': u'auto', u'mini_batch_size': 1000}\u001b[0m\n",
      "\u001b[31m[05/04/2018 05:05:59 WARNING 140190373291840] Loggers have already been setup.\u001b[0m\n",
      "\u001b[31m[05/04/2018 05:05:59 INFO 140190373291840] Launching parameter server for role scheduler\u001b[0m\n",
      "\u001b[31m[05/04/2018 05:05:59 INFO 140190373291840] {'PROTOCOL_BUFFERS_PYTHON_IMPLEMENTATION_VERSION': '2', 'PATH': '/opt/amazon/bin:/usr/local/nvidia/bin:/usr/local/sbin:/usr/local/bin:/usr/sbin:/usr/bin:/sbin:/bin:/opt/amazon/bin:/opt/amazon/bin', 'SAGEMAKER_HTTP_PORT': '8080', 'HOME': '/root', 'PYTHONUNBUFFERED': 'TRUE', 'CANONICAL_ENVROOT': '/opt/amazon', 'LD_LIBRARY_PATH': '/usr/local/nvidia/lib64:/opt/amazon/lib', 'MXNET_KVSTORE_BIGARRAY_BOUND': '400000000', 'LANG': 'en_US.utf8', 'DMLC_INTERFACE': 'ethwe', 'SHLVL': '1', 'AWS_REGION': 'us-east-1', 'NVIDIA_VISIBLE_DEVICES': 'all', 'TRAINING_JOB_NAME': 'randomcutforest-2018-05-04-05-01-39-829', 'PROTOCOL_BUFFERS_PYTHON_IMPLEMENTATION': 'cpp', 'ENVROOT': '/opt/amazon', 'SAGEMAKER_DATA_PATH': '/opt/ml', 'NVIDIA_DRIVER_CAPABILITIES': 'compute,utility', 'NVIDIA_REQUIRE_CUDA': 'cuda>=9.0', 'OMP_NUM_THREADS': '2', 'HOSTNAME': 'aws', 'AWS_CONTAINER_CREDENTIALS_RELATIVE_URI': '/v2/credentials/584e39a1-eb92-482e-9ae5-9551d8491fa8', 'PWD': '/'}\u001b[0m\n",
      "\u001b[31m[05/04/2018 05:05:59 INFO 140190373291840] envs={'PROTOCOL_BUFFERS_PYTHON_IMPLEMENTATION_VERSION': '2', 'DMLC_NUM_WORKER': '1', 'DMLC_PS_ROOT_PORT': '9000', 'PATH': '/opt/amazon/bin:/usr/local/nvidia/bin:/usr/local/sbin:/usr/local/bin:/usr/sbin:/usr/bin:/sbin:/bin:/opt/amazon/bin:/opt/amazon/bin', 'SAGEMAKER_HTTP_PORT': '8080', 'HOME': '/root', 'PYTHONUNBUFFERED': 'TRUE', 'CANONICAL_ENVROOT': '/opt/amazon', 'LD_LIBRARY_PATH': '/usr/local/nvidia/lib64:/opt/amazon/lib', 'MXNET_KVSTORE_BIGARRAY_BOUND': '400000000', 'LANG': 'en_US.utf8', 'DMLC_INTERFACE': 'ethwe', 'SHLVL': '1', 'DMLC_PS_ROOT_URI': '10.32.0.4', 'AWS_REGION': 'us-east-1', 'NVIDIA_VISIBLE_DEVICES': 'all', 'TRAINING_JOB_NAME': 'randomcutforest-2018-05-04-05-01-39-829', 'PROTOCOL_BUFFERS_PYTHON_IMPLEMENTATION': 'cpp', 'ENVROOT': '/opt/amazon', 'SAGEMAKER_DATA_PATH': '/opt/ml', 'NVIDIA_DRIVER_CAPABILITIES': 'compute,utility', 'NVIDIA_REQUIRE_CUDA': 'cuda>=9.0', 'OMP_NUM_THREADS': '2', 'HOSTNAME': 'aws', 'AWS_CONTAINER_CREDENTIALS_RELATIVE_URI': '/v2/credentials/584e39a1-eb92-482e-9ae5-9551d8491fa8', 'DMLC_ROLE': 'scheduler', 'PWD': '/', 'DMLC_NUM_SERVER': '1'}\u001b[0m\n",
      "\u001b[31m[05/04/2018 05:05:59 INFO 140190373291840] Launching parameter server for role server\u001b[0m\n",
      "\u001b[31m[05/04/2018 05:05:59 INFO 140190373291840] {'PROTOCOL_BUFFERS_PYTHON_IMPLEMENTATION_VERSION': '2', 'PATH': '/opt/amazon/bin:/usr/local/nvidia/bin:/usr/local/sbin:/usr/local/bin:/usr/sbin:/usr/bin:/sbin:/bin:/opt/amazon/bin:/opt/amazon/bin', 'SAGEMAKER_HTTP_PORT': '8080', 'HOME': '/root', 'PYTHONUNBUFFERED': 'TRUE', 'CANONICAL_ENVROOT': '/opt/amazon', 'LD_LIBRARY_PATH': '/usr/local/nvidia/lib64:/opt/amazon/lib', 'MXNET_KVSTORE_BIGARRAY_BOUND': '400000000', 'LANG': 'en_US.utf8', 'DMLC_INTERFACE': 'ethwe', 'SHLVL': '1', 'AWS_REGION': 'us-east-1', 'NVIDIA_VISIBLE_DEVICES': 'all', 'TRAINING_JOB_NAME': 'randomcutforest-2018-05-04-05-01-39-829', 'PROTOCOL_BUFFERS_PYTHON_IMPLEMENTATION': 'cpp', 'ENVROOT': '/opt/amazon', 'SAGEMAKER_DATA_PATH': '/opt/ml', 'NVIDIA_DRIVER_CAPABILITIES': 'compute,utility', 'NVIDIA_REQUIRE_CUDA': 'cuda>=9.0', 'OMP_NUM_THREADS': '2', 'HOSTNAME': 'aws', 'AWS_CONTAINER_CREDENTIALS_RELATIVE_URI': '/v2/credentials/584e39a1-eb92-482e-9ae5-9551d8491fa8', 'PWD': '/'}\u001b[0m\n",
      "\u001b[31m[05/04/2018 05:05:59 INFO 140190373291840] envs={'PROTOCOL_BUFFERS_PYTHON_IMPLEMENTATION_VERSION': '2', 'DMLC_NUM_WORKER': '1', 'DMLC_PS_ROOT_PORT': '9000', 'PATH': '/opt/amazon/bin:/usr/local/nvidia/bin:/usr/local/sbin:/usr/local/bin:/usr/sbin:/usr/bin:/sbin:/bin:/opt/amazon/bin:/opt/amazon/bin', 'SAGEMAKER_HTTP_PORT': '8080', 'HOME': '/root', 'PYTHONUNBUFFERED': 'TRUE', 'CANONICAL_ENVROOT': '/opt/amazon', 'LD_LIBRARY_PATH': '/usr/local/nvidia/lib64:/opt/amazon/lib', 'MXNET_KVSTORE_BIGARRAY_BOUND': '400000000', 'LANG': 'en_US.utf8', 'DMLC_INTERFACE': 'ethwe', 'SHLVL': '1', 'DMLC_PS_ROOT_URI': '10.32.0.4', 'AWS_REGION': 'us-east-1', 'NVIDIA_VISIBLE_DEVICES': 'all', 'TRAINING_JOB_NAME': 'randomcutforest-2018-05-04-05-01-39-829', 'PROTOCOL_BUFFERS_PYTHON_IMPLEMENTATION': 'cpp', 'ENVROOT': '/opt/amazon', 'SAGEMAKER_DATA_PATH': '/opt/ml', 'NVIDIA_DRIVER_CAPABILITIES': 'compute,utility', 'NVIDIA_REQUIRE_CUDA': 'cuda>=9.0', 'OMP_NUM_THREADS': '2', 'HOSTNAME': 'aws', 'AWS_CONTAINER_CREDENTIALS_RELATIVE_URI': '/v2/credentials/584e39a1-eb92-482e-9ae5-9551d8491fa8', 'DMLC_ROLE': 'server', 'PWD': '/', 'DMLC_NUM_SERVER': '1'}\u001b[0m\n",
      "\u001b[31m[05/04/2018 05:05:59 INFO 140190373291840] Environment: {'PROTOCOL_BUFFERS_PYTHON_IMPLEMENTATION_VERSION': '2', 'DMLC_PS_ROOT_PORT': '9000', 'DMLC_NUM_WORKER': '1', 'SAGEMAKER_HTTP_PORT': '8080', 'HOME': '/root', 'PYTHONUNBUFFERED': 'TRUE', 'CANONICAL_ENVROOT': '/opt/amazon', 'LD_LIBRARY_PATH': '/usr/local/nvidia/lib64:/opt/amazon/lib', 'MXNET_KVSTORE_BIGARRAY_BOUND': '400000000', 'LANG': 'en_US.utf8', 'DMLC_INTERFACE': 'ethwe', 'SHLVL': '1', 'DMLC_PS_ROOT_URI': '10.32.0.4', 'AWS_REGION': 'us-east-1', 'NVIDIA_VISIBLE_DEVICES': 'all', 'TRAINING_JOB_NAME': 'randomcutforest-2018-05-04-05-01-39-829', 'PATH': '/opt/amazon/bin:/usr/local/nvidia/bin:/usr/local/sbin:/usr/local/bin:/usr/sbin:/usr/bin:/sbin:/bin:/opt/amazon/bin:/opt/amazon/bin', 'PROTOCOL_BUFFERS_PYTHON_IMPLEMENTATION': 'cpp', 'ENVROOT': '/opt/amazon', 'SAGEMAKER_DATA_PATH': '/opt/ml', 'NVIDIA_DRIVER_CAPABILITIES': 'compute,utility', 'NVIDIA_REQUIRE_CUDA': 'cuda>=9.0', 'OMP_NUM_THREADS': '2', 'HOSTNAME': 'aws', 'AWS_CONTAINER_CREDENTIALS_RELATIVE_URI': '/v2/credentials/584e39a1-eb92-482e-9ae5-9551d8491fa8', 'DMLC_ROLE': 'worker', 'PWD': '/', 'DMLC_NUM_SERVER': '1'}\u001b[0m\n",
      "\u001b[31m[05/04/2018 05:05:59 INFO 140190373291840] Using default worker.\u001b[0m\n",
      "\u001b[31m[05/04/2018 05:05:59 INFO 140190373291840] Loaded iterator creator application/x-recordio-protobuf for content type ('application/x-recordio-protobuf', '1.0')\u001b[0m\n",
      "\u001b[31m[05/04/2018 05:05:59 INFO 140190373291840] Verifying hyperparamemters...\u001b[0m\n",
      "\u001b[31m[05/04/2018 05:05:59 INFO 140190373291840] Hyperparameters are correct.\u001b[0m\n",
      "\u001b[31m[05/04/2018 05:05:59 INFO 140190373291840] Validating that feature_dim agrees with dimensions in training data...\u001b[0m\n",
      "\u001b[31m[05/04/2018 05:05:59 INFO 140190373291840] feature_dim is correct.\u001b[0m\n",
      "\u001b[31m[05/04/2018 05:05:59 INFO 140190373291840] Validating memory limits...\u001b[0m\n",
      "\u001b[31m[05/04/2018 05:05:59 INFO 140190373291840] Available memory in bytes: 6590889984\u001b[0m\n",
      "\u001b[31m[05/04/2018 05:05:59 INFO 140190373291840] Estimated sample size in bytes: 80000, limit in bytes is: 2042626048\u001b[0m\n",
      "\u001b[31m[05/04/2018 05:05:59 INFO 140190373291840] Estimated memory needed to build the forest in bytes: 480000\u001b[0m\n",
      "\u001b[31m[05/04/2018 05:05:59 INFO 140190373291840] Memory limits validated\u001b[0m\n",
      "\u001b[31m[05/04/2018 05:05:59 INFO 140190373291840] Initializing Sampler...\u001b[0m\n",
      "\u001b[31m[05/04/2018 05:05:59 INFO 140190373291840] Create Store: dist_async\u001b[0m\n",
      "\u001b[31m[05/04/2018 05:06:00 INFO 140190373291840] Initializing KVStore keys 1, 2\u001b[0m\n",
      "\u001b[31m[05/04/2018 05:06:00 INFO 140190373291840] Sampler correctly initialized.\u001b[0m\n",
      "\u001b[31m#metrics {\"Metrics\": {\"initialize.time\": {\"count\": 1, \"max\": 693.9671039581299, \"sum\": 693.9671039581299, \"min\": 693.9671039581299}}, \"EndTime\": 1525410360.400017, \"Dimensions\": {\"Host\": \"algo-1\", \"Operation\": \"training\", \"Algorithm\": \"RandomCutForest\"}, \"StartTime\": 1525410359.683738}\n",
      "\u001b[0m\n",
      "\u001b[31m#metrics {\"Metrics\": {\"Max Batches Seen Between Resets\": {\"count\": 1, \"max\": 0, \"sum\": 0.0, \"min\": 0}, \"Number of Batches Since Last Reset\": {\"count\": 1, \"max\": 0, \"sum\": 0.0, \"min\": 0}, \"Number of Records Since Last Reset\": {\"count\": 1, \"max\": 0, \"sum\": 0.0, \"min\": 0}, \"Total Batches Seen\": {\"count\": 1, \"max\": 0, \"sum\": 0.0, \"min\": 0}, \"Total Records Seen\": {\"count\": 1, \"max\": 0, \"sum\": 0.0, \"min\": 0}, \"Max Records Seen Between Resets\": {\"count\": 1, \"max\": 0, \"sum\": 0.0, \"min\": 0}, \"Reset Count\": {\"count\": 1, \"max\": 0, \"sum\": 0.0, \"min\": 0}}, \"EndTime\": 1525410360.400182, \"Dimensions\": {\"Host\": \"algo-1\", \"Meta\": \"init_train_data_iter\", \"Operation\": \"training\", \"Algorithm\": \"RandomCutForest\"}, \"StartTime\": 1525410360.400147}\n",
      "\u001b[0m\n",
      "\u001b[31m[05/04/2018 05:06:00 INFO 140190373291840] Sampling training data...\u001b[0m\n",
      "\u001b[31m[05/04/2018 05:06:00 INFO 140190373291840] Workder 0 pushed \u001b[0m\n",
      "\u001b[31m[ 10002.]\u001b[0m\n",
      "\u001b[31m<NDArray 1 @cpu(0)> records\u001b[0m\n",
      "\u001b[31m[05/04/2018 05:06:00 INFO 140190373291840] Sampling training data completed.\u001b[0m\n",
      "\u001b[31m#metrics {\"Metrics\": {\"epochs\": {\"count\": 1, \"max\": 1, \"sum\": 1.0, \"min\": 1}, \"update.time\": {\"count\": 1, \"max\": 22.348880767822266, \"sum\": 22.348880767822266, \"min\": 22.348880767822266}}, \"EndTime\": 1525410360.422699, \"Dimensions\": {\"Host\": \"algo-1\", \"Operation\": \"training\", \"Algorithm\": \"RandomCutForest\"}, \"StartTime\": 1525410360.400099}\n",
      "\u001b[0m\n",
      "\u001b[31m[05/04/2018 05:06:00 INFO 140190373291840] Early stop condition met. Stopping training.\u001b[0m\n",
      "\u001b[31m#metrics {\"Metrics\": {\"Max Batches Seen Between Resets\": {\"count\": 1, \"max\": 11, \"sum\": 11.0, \"min\": 11}, \"Number of Batches Since Last Reset\": {\"count\": 1, \"max\": 11, \"sum\": 11.0, \"min\": 11}, \"Number of Records Since Last Reset\": {\"count\": 1, \"max\": 10320, \"sum\": 10320.0, \"min\": 10320}, \"Total Batches Seen\": {\"count\": 1, \"max\": 11, \"sum\": 11.0, \"min\": 11}, \"Total Records Seen\": {\"count\": 1, \"max\": 10320, \"sum\": 10320.0, \"min\": 10320}, \"Max Records Seen Between Resets\": {\"count\": 1, \"max\": 10320, \"sum\": 10320.0, \"min\": 10320}, \"Reset Count\": {\"count\": 1, \"max\": 1, \"sum\": 1.0, \"min\": 1}}, \"EndTime\": 1525410360.42291, \"Dimensions\": {\"Host\": \"algo-1\", \"Meta\": \"training_data_iter\", \"Operation\": \"training\", \"Algorithm\": \"RandomCutForest\", \"epoch\": 0}, \"StartTime\": 1525410360.422875}\n",
      "\u001b[0m\n",
      "\u001b[31m[05/04/2018 05:06:00 INFO 140190373291840] Master node: building Random Cut Forest...\u001b[0m\n",
      "\u001b[31m[05/04/2018 05:06:00 INFO 140190373291840] Gathering samples...\u001b[0m\n",
      "\u001b[31m[05/04/2018 05:06:00 INFO 140190373291840] Worker 0 sampled 10002 datapoints\u001b[0m\n",
      "\u001b[31m[05/04/2018 05:06:00 INFO 140190373291840] Samples gathered\u001b[0m\n",
      "\u001b[31m[05/04/2018 05:06:00 INFO 140190373291840] Building Random Cut Forest...\u001b[0m\n",
      "\u001b[31m[05/04/2018 05:06:00 INFO 140190373291840] Random Cut Forest built.\u001b[0m\n",
      "\u001b[31m#metrics {\"Metrics\": {\"finalize.time\": {\"count\": 1, \"max\": 14.88494873046875, \"sum\": 14.88494873046875, \"min\": 14.88494873046875}, \"fit_model.time\": {\"count\": 1, \"max\": 12.682199478149414, \"sum\": 12.682199478149414, \"min\": 12.682199478149414}}, \"EndTime\": 1525410360.437932, \"Dimensions\": {\"Host\": \"algo-1\", \"Operation\": \"training\", \"Algorithm\": \"RandomCutForest\"}, \"StartTime\": 1525410360.422761}\n",
      "\u001b[0m\n",
      "\u001b[31m[05/04/2018 05:06:00 INFO 140190373291840] Master node: Serializing the RandomCutForest model\u001b[0m\n",
      "\u001b[31m#metrics {\"Metrics\": {\"serialize_model.time\": {\"count\": 1, \"max\": 40.34900665283203, \"sum\": 40.34900665283203, \"min\": 40.34900665283203}}, \"EndTime\": 1525410360.478398, \"Dimensions\": {\"Host\": \"algo-1\", \"Operation\": \"training\", \"Algorithm\": \"RandomCutForest\"}, \"StartTime\": 1525410360.437992}\n",
      "\u001b[0m\n",
      "\u001b[31m[05/04/2018 05:06:00 INFO 140190373291840] Test data was not provided.\u001b[0m\n",
      "\u001b[31m#metrics {\"Metrics\": {\"totaltime\": {\"count\": 1, \"max\": 957.643985748291, \"sum\": 957.643985748291, \"min\": 957.643985748291}, \"setuptime\": {\"count\": 1, \"max\": 126.70493125915527, \"sum\": 126.70493125915527, \"min\": 126.70493125915527}}, \"EndTime\": 1525410360.482999, \"Dimensions\": {\"Host\": \"algo-1\", \"Operation\": \"training\", \"Algorithm\": \"RandomCutForest\"}, \"StartTime\": 1525410360.47849}\n",
      "\u001b[0m\n"
     ]
    },
    {
     "name": "stdout",
     "output_type": "stream",
     "text": [
      "===== Job Complete =====\n",
      "Billable seconds: 98\n"
     ]
    }
   ],
   "source": [
    "import boto3\n",
    "import sagemaker\n",
    "containers = {\n",
    "    'us-west-2': '174872318107.dkr.ecr.us-west-2.amazonaws.com/randomcutforest:latest',\n",
    "    'us-east-1': '382416733822.dkr.ecr.us-east-1.amazonaws.com/randomcutforest:latest',\n",
    "    'us-east-2': '404615174143.dkr.ecr.us-east-2.amazonaws.com/randomcutforest:latest',\n",
    "    'eu-west-1': '438346466558.dkr.ecr.eu-west-1.amazonaws.com/randomcutforest:latest'}\n",
    "region_name = boto3.Session().region_name\n",
    "container = containers[region_name]\n",
    "\n",
    "session = sagemaker.Session()\n",
    "\n",
    "rcf = sagemaker.estimator.Estimator(\n",
    "    container,\n",
    "    sagemaker.get_execution_role(),\n",
    "    output_path='s3://{}/{}/output'.format(bucket, prefix),\n",
    "    train_instance_count=1,\n",
    "    train_instance_type='ml.c5.xlarge',\n",
    "    sagemaker_session=session)\n",
    "\n",
    "rcf.set_hyperparameters(\n",
    "    num_samples_per_tree=200,\n",
    "    num_trees=50,\n",
    "    feature_dim=1) # feature_sizeでは間違い\n",
    "\n",
    "s3_train_input = sagemaker.session.s3_input(\n",
    "    s3_train_data,\n",
    "    distribution='ShardedByS3Key',\n",
    "    content_type='application/x-recordio-protobuf')\n",
    "\n",
    "rcf.fit({'train': s3_train_input})"
   ]
  },
  {
   "cell_type": "code",
   "execution_count": 10,
   "metadata": {},
   "outputs": [
    {
     "name": "stderr",
     "output_type": "stream",
     "text": [
      "INFO:sagemaker:Creating model with name: randomcutforest-2018-05-04-05-25-43-438\n",
      "INFO:sagemaker:Creating endpoint with name randomcutforest-2018-05-04-05-01-39-829\n"
     ]
    },
    {
     "name": "stdout",
     "output_type": "stream",
     "text": [
      "--------------------------------------------------------------!"
     ]
    }
   ],
   "source": [
    "from sagemaker.predictor import csv_serializer, json_deserializer\n",
    "\n",
    "rcf_inference = rcf.deploy(\n",
    "    initial_instance_count=1,\n",
    "    instance_type='ml.c5.xlarge',\n",
    ")\n",
    "\n",
    "rcf_inference.content_type = 'text/csv'\n",
    "rcf_inference.serializer = csv_serializer\n",
    "rcf_inference.deserializer = json_deserializer\n"
   ]
  },
  {
   "cell_type": "code",
   "execution_count": 11,
   "metadata": {},
   "outputs": [],
   "source": [
    "results = rcf_inference.predict(taxi_data.value.as_matrix().reshape(-1,1))\n",
    "scores = [datum['score'] for datum in results['scores']]\n",
    "taxi_data['score'] = pandas.Series(scores, index=taxi_data.index)\n",
    "\n",
    "score_mean = taxi_data.score.mean()\n",
    "score_std = taxi_data.score.std()\n",
    "\n",
    "score_cutoff = score_mean + 3*score_std\n",
    "anomalies = taxi_data[taxi_data['score'] > score_cutoff]"
   ]
  },
  {
   "cell_type": "code",
   "execution_count": 12,
   "metadata": {},
   "outputs": [
    {
     "data": {
      "image/png": "[encoded data removed]",
      "text/plain": [
       "<matplotlib.figure.Figure at 0x7fcc01c9f080>"
      ]
     },
     "metadata": {},
     "output_type": "display_data"
    }
   ],
   "source": [
    "import matplotlib.pyplot as plt\n",
    "\n",
    "fig, ax1 = plt.subplots()\n",
    "ax2 = ax1.twinx()\n",
    "\n",
    "ax1.plot(taxi_data['value'], alpha=0.8)\n",
    "ax1.set_ylabel('Taxi Ridership', color='C0')\n",
    "ax1.tick_params('y', colors='C0')\n",
    "\n",
    "ax2.plot(taxi_data['score'], color='C1')\n",
    "ax2.plot(anomalies.index, anomalies.score, 'ko')\n",
    "ax2.set_ylabel('Anomaly Score', color='C1')\n",
    "ax2.tick_params('y', colors='C1')\n",
    "\n",
    "fig.suptitle('Taxi Ridership in NYC')\n",
    "plt.show()"
   ]
  }
 ],
 "metadata": {
  "kernelspec": {
   "display_name": "conda_tensorflow_p36",
   "language": "python",
   "name": "conda_tensorflow_p36"
  },
  "language_info": {
   "codemirror_mode": {
    "name": "ipython",
    "version": 3
   },
   "file_extension": ".py",
   "mimetype": "text/x-python",
   "name": "python",
   "nbconvert_exporter": "python",
   "pygments_lexer": "ipython3",
   "version": "3.6.4"
  }
 },
 "nbformat": 4,
 "nbformat_minor": 2
}
